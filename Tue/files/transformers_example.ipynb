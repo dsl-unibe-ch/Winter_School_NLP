{
 "cells": [
  {
   "cell_type": "code",
   "execution_count": null,
   "id": "38f458d7-965c-4fef-b358-fc05f3b68cc3",
   "metadata": {},
   "outputs": [],
   "source": [
    "from transformers import pipeline"
   ]
  },
  {
   "cell_type": "code",
   "execution_count": null,
   "id": "7558419e-429a-4883-ace1-f8725e1145af",
   "metadata": {},
   "outputs": [],
   "source": [
    "# Sentiment Analysis Pipeline\n",
    "# This pipeline returns the sentiment of a given sentence as positive or negative.\n",
    "print(\"Sentiment Analysis Pipeline:\")\n",
    "sentiment_pipeline = pipeline(\"sentiment-analysis\")\n",
    "result = sentiment_pipeline(\"I love using transformers for NLP tasks!\")\n",
    "print(result)\n",
    "# Deleting the pipeline variable to free up memory\n",
    "del sentiment_pipeline"
   ]
  },
  {
   "cell_type": "code",
   "execution_count": null,
   "id": "12b23123-90c1-42ea-9e73-ccde8a847487",
   "metadata": {},
   "outputs": [],
   "source": [
    "# Text Generation Pipeline\n",
    "# This pipeline generates text based on a given prompt.\n",
    "print(\"\\nText Generation Pipeline:\")\n",
    "text_generator = pipeline(\"text-generation\")\n",
    "generated_text = text_generator(\"In a distant future, humanity has\", max_length=50)\n",
    "print(generated_text[0]['generated_text'])\n",
    "# Deleting the pipeline variable to free up memory\n",
    "del text_generator"
   ]
  },
  {
   "cell_type": "code",
   "execution_count": null,
   "id": "0379298f-794b-464f-bd68-2ba944f07767",
   "metadata": {},
   "outputs": [],
   "source": [
    "# Named Entity Recognition (NER) Pipeline\n",
    "# This pipeline identifies entities in a sentence like person names, locations, or organizations.\n",
    "print(\"\\nNamed Entity Recognition Pipeline:\")\n",
    "ner_pipeline = pipeline(\"ner\", aggregation_strategy=\"simple\")\n",
    "ner_results = ner_pipeline(\"Hugging Face is a startup based in New York.\")\n",
    "for entity in ner_results:\n",
    "    print(entity)\n",
    "# Deleting the pipeline variable to free up memory\n",
    "del ner_pipeline"
   ]
  },
  {
   "cell_type": "code",
   "execution_count": null,
   "id": "bf1777e4-bce1-4f3b-84aa-12ad07570c85",
   "metadata": {},
   "outputs": [],
   "source": [
    "# Question Answering Pipeline\n",
    "# This pipeline answers questions based on the context provided.\n",
    "print(\"\\nQuestion Answering Pipeline:\")\n",
    "question_answerer = pipeline(\"question-answering\")\n",
    "qa_result = question_answerer(question=\"Where is Hugging Face based?\",\n",
    "                               context=\"Hugging Face is a startup based in New York.\")\n",
    "print(qa_result)\n",
    "# Deleting the pipeline variable to free up memory\n",
    "del question_answerer"
   ]
  },
  {
   "cell_type": "code",
   "execution_count": null,
   "id": "77468d45-64da-4d57-8597-9269521b0fe8",
   "metadata": {},
   "outputs": [],
   "source": [
    "# Translation Pipeline\n",
    "# This pipeline translates text from one language to another.\n",
    "print(\"\\nTranslation Pipeline (English to German):\")\n",
    "translator = pipeline(\"translation_en_to_de\")\n",
    "translation = translator(\"Hugging Face is a technology company.\", max_length=40)\n",
    "print(translation[0]['translation_text'])\n",
    "# Deleting the pipeline variable to free up memory\n",
    "del translator"
   ]
  },
  {
   "cell_type": "code",
   "execution_count": null,
   "id": "921dfce2-7c1f-4e3c-8ee1-af8900f99b14",
   "metadata": {},
   "outputs": [],
   "source": [
    "# Summarization Pipeline\n",
    "# This pipeline provides a summary for a given text.\n",
    "print(\"\\nSummarization Pipeline:\")\n",
    "summarizer = pipeline(\"summarization\")\n",
    "summary = summarizer(\"Hugging Face is a technology company based in New York. \"\n",
    "                     \"They specialize in providing NLP technologies.\", max_length=45, min_length=25)\n",
    "print(summary[0]['summary_text'])\n",
    "# Deleting the pipeline variable to free up memory\n",
    "del summarizer"
   ]
  },
  {
   "cell_type": "markdown",
   "id": "e3a643f8-62b4-4331-a46e-d657edece99a",
   "metadata": {},
   "source": [
    "<b> More on Transformers on Thu, Fri</b>"
   ]
  },
  {
   "cell_type": "code",
   "execution_count": null,
   "id": "92432bb6-906f-4ec9-ae23-f4fcad7e0106",
   "metadata": {},
   "outputs": [],
   "source": []
  }
 ],
 "metadata": {
  "kernelspec": {
   "display_name": "Python 3 (ipykernel)",
   "language": "python",
   "name": "python3"
  },
  "language_info": {
   "codemirror_mode": {
    "name": "ipython",
    "version": 3
   },
   "file_extension": ".py",
   "mimetype": "text/x-python",
   "name": "python",
   "nbconvert_exporter": "python",
   "pygments_lexer": "ipython3",
   "version": "3.10.12"
  }
 },
 "nbformat": 4,
 "nbformat_minor": 5
}
